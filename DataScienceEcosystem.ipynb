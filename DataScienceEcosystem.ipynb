{
 "cells": [
  {
   "cell_type": "markdown",
   "id": "02b53553-e0e2-45c9-8bf5-3fa96b144455",
   "metadata": {},
   "source": [
    "# Data Science Tools and Ecosystem"
   ]
  },
  {
   "cell_type": "markdown",
   "id": "bc086b84-2513-488b-8cd5-d48a459df194",
   "metadata": {},
   "source": [
    "In this notebook, Data Science Tools and Ecosystem are summarized.\n"
   ]
  },
  {
   "cell_type": "markdown",
   "id": "1f2b2584-6030-434e-bc14-e1a255ebce07",
   "metadata": {},
   "source": [
    "**Objectives:**\n",
    "* List popular languages\n",
    "* List commonly used libraries\n",
    "* List Data Science Tools"
   ]
  },
  {
   "cell_type": "markdown",
   "id": "73aa10af-d664-429d-b670-1fa2a1e27f53",
   "metadata": {},
   "source": [
    "Some of the popular languages that Data Scientists use are:\n",
    "1. Python\n",
    "2. R\n",
    "3. SQL\n",
    "4. Julia"
   ]
  },
  {
   "cell_type": "markdown",
   "id": "029b0ec7-c05d-46d8-b1ef-970411bfd3a3",
   "metadata": {},
   "source": [
    "Some of the commonly used libraries used by Data Scientists include:\n",
    "1. Numpy\n",
    "2. Pandas\n",
    "3. Matplotlib\n",
    "4. Plotly"
   ]
  },
  {
   "cell_type": "markdown",
   "id": "c38760dc-f003-458d-9533-855cf9ba49fb",
   "metadata": {},
   "source": [
    "| Data Science Tools |\n",
    "|:--------|\n",
    "|  RStudio   |\n",
    "|  Apache Spark   |\n",
    "|  TensorFlow   |"
   ]
  },
  {
   "cell_type": "markdown",
   "id": "a102c64f-a39e-46a7-93b3-057195f1c5e7",
   "metadata": {},
   "source": [
    "### Below are a few examples of evaluating arithmetic expressions in Python."
   ]
  },
  {
   "cell_type": "code",
   "execution_count": 12,
   "id": "909ebd0c-840c-4b4f-bb4a-8e75ef4b8b3a",
   "metadata": {},
   "outputs": [
    {
     "data": {
      "text/plain": [
       "17"
      ]
     },
     "execution_count": 12,
     "metadata": {},
     "output_type": "execute_result"
    }
   ],
   "source": [
    "# This a simple arithmetic expression to mutiply then add integers\n",
    "(3*4)+5 "
   ]
  },
  {
   "cell_type": "code",
   "execution_count": 13,
   "id": "b245faab-1bce-4672-a3f2-c7444ac9beeb",
   "metadata": {},
   "outputs": [
    {
     "data": {
      "text/plain": [
       "3.3333333333333335"
      ]
     },
     "execution_count": 13,
     "metadata": {},
     "output_type": "execute_result"
    }
   ],
   "source": [
    "# This will convert 200 minutes to hours by diving by 60\n",
    "200/60"
   ]
  },
  {
   "cell_type": "markdown",
   "id": "00bf9107-7232-4ea9-9d31-12dc33be5c82",
   "metadata": {},
   "source": [
    "## Author \n",
    "Jonathan S Lorentzen"
   ]
  }
 ],
 "metadata": {
  "kernelspec": {
   "display_name": "Python 3 (ipykernel)",
   "language": "python",
   "name": "python3"
  },
  "language_info": {
   "codemirror_mode": {
    "name": "ipython",
    "version": 3
   },
   "file_extension": ".py",
   "mimetype": "text/x-python",
   "name": "python",
   "nbconvert_exporter": "python",
   "pygments_lexer": "ipython3",
   "version": "3.12.4"
  }
 },
 "nbformat": 4,
 "nbformat_minor": 5
}
